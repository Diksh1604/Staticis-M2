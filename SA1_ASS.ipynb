{
  "nbformat": 4,
  "nbformat_minor": 0,
  "metadata": {
    "colab": {
      "provenance": []
    },
    "kernelspec": {
      "name": "python3",
      "display_name": "Python 3"
    },
    "language_info": {
      "name": "python"
    }
  },
  "cells": [
    {
      "cell_type": "markdown",
      "source": [
        "# **Ans 1)**\n",
        "\n",
        "F-distribution is a probability distribution which arises frequently in statistical inference.\n",
        "\n",
        "# **Shape and Range**\n",
        "The F-distribution is positively skewed, especially for small degrees of freedom.\n",
        "The distribution is defined on the range\n",
        "[\n",
        "0\n",
        ",\n",
        "∞\n",
        ")\n",
        "[0,∞), it takes only non-negative values.\n",
        "\n",
        "# **Degrees of Freedom**\n",
        "The F-distribution is characterized by two sets of degrees of freedom:\n",
        "\n",
        "Numerator degrees of freedom (\n",
        "𝑑\n",
        "1\n",
        "d\n",
        "1\n",
        "​\n",
        " ): Corresponds to the chi-square distribution in the numerator.\n",
        "Denominator degrees of freedom (\n",
        "𝑑\n",
        "2\n",
        "d\n",
        "2\n",
        "​\n",
        " ): Corresponds to the chi-square distribution in the denominator."
      ],
      "metadata": {
        "id": "94YNT1R49mCk"
      }
    },
    {
      "cell_type": "markdown",
      "source": [
        "# **Usage in Hypothesis Testing**\n",
        "\n",
        "F-statistic is the ratio of the variance between groups to the variance within groups:\n",
        "𝐹\n",
        "=\n",
        "Variance between groups\n",
        "Variance within groups\n",
        "F=\n",
        "Variance within groups\n",
        "Variance between groups\n",
        "​\n",
        "\n",
        "Under the null hypothesis, this ratio follows an F-distribution with\n",
        "𝑑\n",
        "1\n",
        "d\n",
        "1\n",
        "​\n",
        "  and\n",
        "𝑑\n",
        "2\n",
        "d\n",
        "2\n",
        "​\n",
        "  degrees of freedom.\n"
      ],
      "metadata": {
        "id": "iU7WUuoyCCTm"
      }
    },
    {
      "cell_type": "markdown",
      "source": [
        "# **Ans 2)**\n",
        "\n",
        "**Regression Analysis (Testing the Overall Model Fit)**\n",
        "\n",
        " In regression analysis, the F-test is used to determine whether the overall regression model is a good fit for the data, or whether at least one of the predictors is significantly related to the dependent variable.\n",
        "\n",
        " **Analysis of Variance**\n",
        "\n",
        " ANOVA is used to test if there are significant differences between the means of three or more groups.\n",
        "\n",
        " **Testing the Equality of Multiple Variances (Levene's Test, Bartlett’s Test)**\n",
        "\n",
        "These tests are used to assess the assumption of equal variances across groups, which is a key assumption in tests like ANOVA or t-tests.\n",
        "\n",
        "**Why**\n",
        "\n",
        "It is derived from the ratio of two independent chi-square distributions.\n",
        "\n",
        "**It models the ratio of variances**"
      ],
      "metadata": {
        "id": "12lP6scbCP1N"
      }
    },
    {
      "cell_type": "markdown",
      "source": [
        "# **Ans 3)**\n",
        "\n",
        "**Key Assumptions for Conducting an F-Test**\n",
        "\n",
        "a)Independence of Samples\n",
        "\n",
        "b)Homogeneity of Variances\n",
        "\n",
        "c)Equality of Population Variances\n",
        "\n",
        "d)Normality of the Populations"
      ],
      "metadata": {
        "id": "9w98T-LNEsD8"
      }
    },
    {
      "cell_type": "markdown",
      "source": [
        "# **Ans 4) **\n",
        "\n",
        "# **Purpose of ANOVA:-**\n",
        "ANOVA is a statistical method used to test whether there are significant difference. It purpose of ANOVA is to determine if at least one of the group means is different from the others based on the variation within and between the groups.\n",
        "\n",
        "## **Difference:-**\n",
        "\n",
        "## **Aspect:- No of groups**\n",
        "  T-Test:- 2 Groups\n",
        "  ANOVA :- 3 or more groups\n",
        "\n",
        "##  **Aspect:- Type of Data**\n",
        "  T-Test:- Continous Dependent(2 group)\n",
        "  ANOVA:-  Continous Dependent(3 +group)\n",
        "\n",
        "##  **Aspect:- Used When**\n",
        "  T-Test:- Comparing 2 means\n",
        "  ANOVA:-  Comparing 3 or more means\n"
      ],
      "metadata": {
        "id": "EvAN9EzlGY1r"
      }
    },
    {
      "cell_type": "markdown",
      "source": [
        "# ***Ans 5) ***\n",
        "\n",
        "One-way ANOVA when comparing 3 or more groups because it controls the family-wise error rate, is more statistically efficient, and provides a simpler interpretation of whether there are differences among the groups as a whole. Multiple t-tests, while possible, come with significant drawbacks, including an increased risk of Type I errors, decreased statistical power, and complexity in interpretation, making ANOVA the more appropriate choice for comparing multiple groups."
      ],
      "metadata": {
        "id": "g-By5lFSL4JF"
      }
    },
    {
      "cell_type": "markdown",
      "source": [
        "# **Ans 6)**\n",
        "\n",
        "### **a)Total Variance (Total Sum of Squares)**\n",
        "\n",
        "Easures the total variability in the data.\n",
        "\n",
        "SS\n",
        "total\n",
        "​\n",
        " =\n",
        "i=1\n",
        "∑\n",
        "N\n",
        "​\n",
        " (X\n",
        "i\n",
        "​\n",
        " −\n",
        "X\n",
        "ˉ\n",
        "  \n",
        "grand\n",
        "​\n",
        " )\n",
        "2\n",
        "\n",
        "where:\n",
        "𝑋\n",
        "𝑖\n",
        "X\n",
        "i\n",
        "​\n",
        "  is the individual observation,\n",
        "𝑋\n",
        "ˉ\n",
        "grand\n",
        "X\n",
        "ˉ\n",
        "  \n",
        "grand\n",
        "​\n",
        "  is the grand mean (the mean of all observations in all groups),\n",
        "𝑁\n",
        "N is the total number of observations.\n",
        "\n"
      ],
      "metadata": {
        "id": "6BJijbxkP4qg"
      }
    },
    {
      "cell_type": "markdown",
      "source": [
        "### **b) Between-Group Variance (Between-Group Sum of Squares)**\n",
        "\n",
        "Measures the variability due to the differences between the group means and the grand mean.\n",
        "𝑆\n",
        "𝑆\n",
        "between\n",
        "=\n",
        "∑\n",
        "𝑘\n",
        "=\n",
        "1\n",
        "𝑘\n",
        "𝑛\n",
        "𝑘\n",
        "(\n",
        "𝑋\n",
        "ˉ\n",
        "𝑘\n",
        "−\n",
        "𝑋\n",
        "ˉ\n",
        "grand\n",
        ")\n",
        "2\n",
        "SS\n",
        "between\n",
        "​\n",
        " =\n",
        "k=1\n",
        "∑\n",
        "k\n",
        "​\n",
        " n\n",
        "k\n",
        "​\n",
        " (\n",
        "X\n",
        "ˉ\n",
        "  \n",
        "k\n",
        "​\n",
        " −\n",
        "X\n",
        "ˉ\n",
        "  \n",
        "grand\n",
        "​\n",
        " )\n",
        "2\n",
        "\n",
        "where:\n",
        "𝑛\n",
        "𝑘\n",
        "n\n",
        "k\n",
        "​\n",
        "  is the sample size of group\n",
        "𝑘\n",
        "k,\n",
        "𝑋\n",
        "ˉ\n",
        "𝑘\n",
        "X\n",
        "ˉ\n",
        "  \n",
        "k\n",
        "​\n",
        "  is the mean of group\n",
        "𝑘\n",
        "k,\n",
        "𝑋\n",
        "ˉ\n",
        "grand\n",
        "X\n",
        "ˉ\n",
        "  \n",
        "grand\n",
        "​\n",
        "  is the grand mean,\n",
        "𝑘\n",
        "k is the number of groups."
      ],
      "metadata": {
        "id": "pHl8M0JwQ90Z"
      }
    },
    {
      "cell_type": "markdown",
      "source": [
        "## **d) Partitioning the Total Sum of Squares**\n",
        "The total variance (sum of squares) is partitioned into two components\n",
        "\n",
        "𝑆\n",
        "𝑆\n",
        "total\n",
        "=\n",
        "𝑆\n",
        "𝑆\n",
        "between\n",
        "+\n",
        "𝑆\n",
        "𝑆\n",
        "within\n",
        "SS\n",
        "total\n",
        "​\n",
        " =SS\n",
        "between\n",
        "​\n",
        " +SS\n",
        "within"
      ],
      "metadata": {
        "id": "2Z78Lj6iRnP3"
      }
    },
    {
      "cell_type": "markdown",
      "source": [
        "# **Ans 8)**"
      ],
      "metadata": {
        "id": "b_A6cFUHR73m"
      }
    },
    {
      "cell_type": "code",
      "source": [
        "import numpy as np\n",
        "from scipy import stats\n",
        "\n",
        "profession_a = np.array([48, 52, 55, 60, 62])\n",
        "profession_b = np.array([45, 50, 55, 52, 47])\n",
        "\n",
        "var_a = np.var(profession_a, ddof=1)\n",
        "var_b = np.var(profession_b, ddof=1)\n",
        "\n",
        "F_statistic = var_a / var_b if var_a > var_b else var_b / var_a\n",
        "\n",
        "df_a = len(profession_a) - 1\n",
        "df_b = len(profession_b) - 1\n",
        "\n",
        "p_value = stats.f.cdf(F_statistic, df_a, df_b)\n",
        "\n",
        "p_value = 2 * min(p_value, 1 - p_value)\n",
        "\n",
        "print(f\"Variance of Profession A: {var_a}\")\n",
        "print(f\"Variance of Profession B: {var_b}\")\n",
        "print(f\"F-statistic: {F_statistic}\")\n",
        "print(f\"P-value: {p_value}\")\n",
        "\n",
        "alpha = 0.05\n",
        "if p_value < alpha:\n",
        "    print(\"Reject the null hypothesis: The variances are significantly different.\")\n",
        "else:\n",
        "    print(\"Fail to reject the null hypothesis: The variances are not significantly different.\")\n"
      ],
      "metadata": {
        "colab": {
          "base_uri": "https://localhost:8080/"
        },
        "id": "vJhOfJ8E9hIb",
        "outputId": "388272c1-fd73-4450-aa1a-aeaaecab28fd"
      },
      "execution_count": 1,
      "outputs": [
        {
          "output_type": "stream",
          "name": "stdout",
          "text": [
            "Variance of Profession A: 32.8\n",
            "Variance of Profession B: 15.7\n",
            "F-statistic: 2.089171974522293\n",
            "P-value: 0.49304859900533904\n",
            "Fail to reject the null hypothesis: The variances are not significantly different.\n"
          ]
        }
      ]
    },
    {
      "cell_type": "markdown",
      "source": [
        "# **Ans 9)**"
      ],
      "metadata": {
        "id": "pXoeKi1pTiYK"
      }
    },
    {
      "cell_type": "code",
      "source": [
        "import numpy as np\n",
        "from scipy import stats\n",
        "\n",
        "region_a = np.array([160, 162, 165, 158, 164])\n",
        "region_b = np.array([172, 175, 170, 168, 174])\n",
        "region_c = np.array([180, 182, 179, 185, 183])\n",
        "\n",
        "f_statistic, p_value = stats.f_oneway(region_a, region_b, region_c)\n",
        "\n",
        "print(f\"F-statistic: {f_statistic}\")\n",
        "print(f\"P-value: {p_value}\")\n",
        "\n",
        "alpha = 0.05\n",
        "if p_value < alpha:\n",
        "    print(\"Reject the null hypothesis: There is a significant difference in average heights between the regions.\")\n",
        "else:\n",
        "    print(\"Fail to reject the null hypothesis: There is no significant difference in average heights between the regions.\")\n"
      ],
      "metadata": {
        "colab": {
          "base_uri": "https://localhost:8080/"
        },
        "id": "S21SADeW9kc8",
        "outputId": "79e4d42a-dc8e-4d21-99c0-c0358609fd30"
      },
      "execution_count": 2,
      "outputs": [
        {
          "output_type": "stream",
          "name": "stdout",
          "text": [
            "F-statistic: 67.87330316742101\n",
            "P-value: 2.870664187937026e-07\n",
            "Reject the null hypothesis: There is a significant difference in average heights between the regions.\n"
          ]
        }
      ]
    }
  ]
}